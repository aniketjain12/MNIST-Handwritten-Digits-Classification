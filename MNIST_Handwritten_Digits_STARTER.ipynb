{
  "cells": [
    {
      "cell_type": "markdown",
      "metadata": {
        "id": "FzFkZp36F8mo"
      },
      "source": [
        "# Introduction\n",
        "\n",
        "In this project, you will build a neural network of your own design to evaluate the MNIST dataset.\n",
        "\n",
        "Some of the benchmark results on MNIST include can be found [on Yann LeCun's page](https://webcache.googleusercontent.com/search?q=cache:stAVPik6onEJ:yann.lecun.com/exdb/mnist) and include:\n",
        "\n",
        "88% [Lecun et al., 1998](https://hal.science/hal-03926082/document)\n",
        "\n",
        "95.3% [Lecun et al., 1998](https://hal.science/hal-03926082v1/document)\n",
        "\n",
        "99.65% [Ciresan et al., 2011](http://people.idsia.ch/~juergen/ijcai2011.pdf)\n",
        "\n",
        "\n",
        "MNIST is a great dataset for sanity checking your models, since the accuracy levels achieved by large convolutional neural networks and small linear models are both quite high. This makes it important to be familiar with the data.\n",
        "\n",
        "## Installation"
      ]
    },
    {
      "cell_type": "code",
      "execution_count": null,
      "metadata": {
        "id": "wNPyc9afF8mr"
      },
      "outputs": [],
      "source": [
        "# Update the PATH to include the user installation directory.\n",
        "import os\n",
        "os.environ['PATH'] = f\"{os.environ['PATH']}:/root/.local/bin\"\n",
        "\n",
        "# Restart the Kernel before you move on to the next step."
      ]
    },
    {
      "cell_type": "markdown",
      "metadata": {
        "id": "Tg5pNfLFF8mt"
      },
      "source": [
        "#### Important: Restart the Kernel before you move on to the next step."
      ]
    },
    {
      "cell_type": "code",
      "execution_count": null,
      "metadata": {
        "colab": {
          "base_uri": "https://localhost:8080/"
        },
        "id": "JkNL9cbCF8mu",
        "outputId": "4faceffa-2c1b-4223-bfaf-8357d4c38d89"
      },
      "outputs": [
        {
          "name": "stdout",
          "output_type": "stream",
          "text": [
            "Collecting opencv-python-headless==4.5.3.56 (from -r requirements.txt (line 1))\n",
            "  Using cached opencv-python-headless-4.5.3.56.tar.gz (89.2 MB)\n",
            "  \u001b[1;31merror\u001b[0m: \u001b[1msubprocess-exited-with-error\u001b[0m\n",
            "  \n",
            "  \u001b[31m×\u001b[0m \u001b[32mpip subprocess to install build dependencies\u001b[0m did not run successfully.\n",
            "  \u001b[31m│\u001b[0m exit code: \u001b[1;36m1\u001b[0m\n",
            "  \u001b[31m╰─>\u001b[0m See above for output.\n",
            "  \n",
            "  \u001b[1;35mnote\u001b[0m: This error originates from a subprocess, and is likely not a problem with pip.\n",
            "  Installing build dependencies ... \u001b[?25l\u001b[?25herror\n",
            "\u001b[1;31merror\u001b[0m: \u001b[1msubprocess-exited-with-error\u001b[0m\n",
            "\n",
            "\u001b[31m×\u001b[0m \u001b[32mpip subprocess to install build dependencies\u001b[0m did not run successfully.\n",
            "\u001b[31m│\u001b[0m exit code: \u001b[1;36m1\u001b[0m\n",
            "\u001b[31m╰─>\u001b[0m See above for output.\n",
            "\n",
            "\u001b[1;35mnote\u001b[0m: This error originates from a subprocess, and is likely not a problem with pip.\n"
          ]
        }
      ],
      "source": [
        "# Install requirements\n",
        "!python -m pip install -r requirements.txt"
      ]
    },
    {
      "cell_type": "markdown",
      "metadata": {
        "id": "AXOh4l3aF8mu"
      },
      "source": [
        "## Imports"
      ]
    },
    {
      "cell_type": "code",
      "execution_count": 1,
      "metadata": {
        "id": "M3mB6L9XF8mu"
      },
      "outputs": [],
      "source": [
        "## This cell contains the essential imports you will need – DO NOT CHANGE THE CONTENTS! ##\n",
        "import torch\n",
        "import torch.nn as nn\n",
        "import torch.nn.functional as F\n",
        "import torch.optim as optim\n",
        "import torchvision\n",
        "import torchvision.transforms as transforms\n",
        "import matplotlib.pyplot as plt\n",
        "import numpy as np"
      ]
    },
    {
      "cell_type": "markdown",
      "metadata": {
        "id": "InQYbgzLF8mu"
      },
      "source": [
        "## Load the Dataset\n",
        "\n",
        "Specify your transforms as a list if you intend to .\n",
        "The transforms module is already loaded as `transforms`.\n",
        "\n",
        "MNIST is fortunately included in the torchvision module.\n",
        "Then, you can create your dataset using the `MNIST` object from `torchvision.datasets` ([the documentation is available here](https://pytorch.org/vision/stable/datasets.html#mnist)).\n",
        "Make sure to specify `download=True`!\n",
        "\n",
        "Once your dataset is created, you'll also need to define a `DataLoader` from the `torch.utils.data` module for both the train and the test set."
      ]
    },
    {
      "cell_type": "code",
      "execution_count": 2,
      "metadata": {
        "id": "BHdEw1GUF8mv"
      },
      "outputs": [],
      "source": [
        "# Define transforms\n",
        "## YOUR CODE HERE ##\n",
        "transform = transforms.Compose([transforms.ToTensor(), transforms.Normalize((0.5,), (0.5,))])\n",
        "\n",
        "# Create training set and define training dataloader\n",
        "## YOUR CODE HERE ##\n",
        "train = torchvision.datasets.MNIST(root='./data', train=True, download=True, transform=transform)\n",
        "trainloader = torch.utils.data.DataLoader(train, batch_size=64, shuffle=True)\n",
        "\n",
        "# Create test set and define test dataloader\n",
        "## YOUR CODE HERE ##\n",
        "test = torchvision.datasets.MNIST(root='./data', train=False, download=True, transform=transform)\n",
        "testloader = torch.utils.data.DataLoader(test, batch_size=64, shuffle=False)"
      ]
    },
    {
      "cell_type": "markdown",
      "metadata": {
        "id": "9qbt76i2F8mv"
      },
      "source": [
        "## Justify your preprocessing\n",
        "\n",
        "In your own words, why did you choose the transforms you chose? If you didn't use any preprocessing steps, why not?\n",
        "Ans: I choose Normalize((0.5,), (0.5,)): Normalizes the images with a mean and standard deviation of 0.5, and ToTensor(): Converts the images to PyTorch tensors."
      ]
    },
    {
      "cell_type": "markdown",
      "metadata": {
        "id": "ND1h2bu6F8mw"
      },
      "source": [
        "**DOUBLE CLICK THIS CELL TO MODIFY**"
      ]
    },
    {
      "cell_type": "markdown",
      "metadata": {
        "id": "zcME5G2bF8mw"
      },
      "source": [
        "## Explore the Dataset\n",
        "Using matplotlib, numpy, and torch, explore the dimensions of your data.\n",
        "\n",
        "You can view images using the `show5` function defined below – it takes a data loader as an argument.\n",
        "Remember that normalized images will look really weird to you! You may want to try changing your transforms to view images.\n",
        "Typically using no transforms other than `toTensor()` works well for viewing – but not as well for training your network.\n",
        "If `show5` doesn't work, go back and check your code for creating your data loaders and your training/test sets."
      ]
    },
    {
      "cell_type": "code",
      "execution_count": 3,
      "metadata": {
        "id": "dKpH7q-mF8mw"
      },
      "outputs": [],
      "source": [
        "## This cell contains a function for showing 5 images from a dataloader – DO NOT CHANGE THE CONTENTS! ##\n",
        "def show5(img_loader):\n",
        "    dataiter = iter(img_loader)\n",
        "\n",
        "    batch = next(dataiter)\n",
        "    labels = batch[1][0:5]\n",
        "    images = batch[0][0:5]\n",
        "    for i in range(5):\n",
        "        print(int(labels[i].detach()))\n",
        "\n",
        "        image = images[i].numpy()\n",
        "        plt.imshow(image.T.squeeze().T)\n",
        "        plt.show()"
      ]
    },
    {
      "cell_type": "code",
      "execution_count": 4,
      "metadata": {
        "colab": {
          "base_uri": "https://localhost:8080/",
          "height": 1000
        },
        "id": "NzxFpkbYF8mw",
        "outputId": "f94231b3-6b15-4ea8-aa5c-24b2e25a6620"
      },
      "outputs": [
        {
          "name": "stdout",
          "output_type": "stream",
          "text": [
            "7\n"
          ]
        },
        {
          "data": {
            "image/png": "[encoded data removed]",
            "text/plain": [
              "<Figure size 640x480 with 1 Axes>"
            ]
          },
          "metadata": {},
          "output_type": "display_data"
        },
        {
          "name": "stdout",
          "output_type": "stream",
          "text": [
            "1\n"
          ]
        },
        {
          "data": {
            "image/png": "[encoded data removed]",
            "text/plain": [
              "<Figure size 640x480 with 1 Axes>"
            ]
          },
          "metadata": {},
          "output_type": "display_data"
        },
        {
          "name": "stdout",
          "output_type": "stream",
          "text": [
            "6\n"
          ]
        },
        {
          "data": {
            "image/png": "[encoded data removed]",
            "text/plain": [
              "<Figure size 640x480 with 1 Axes>"
            ]
          },
          "metadata": {},
          "output_type": "display_data"
        },
        {
          "name": "stdout",
          "output_type": "stream",
          "text": [
            "2\n"
          ]
        },
        {
          "data": {
            "image/png": "[encoded data removed]",
            "text/plain": [
              "<Figure size 640x480 with 1 Axes>"
            ]
          },
          "metadata": {},
          "output_type": "display_data"
        },
        {
          "name": "stdout",
          "output_type": "stream",
          "text": [
            "8\n"
          ]
        },
        {
          "data": {
            "image/png": "[encoded data removed]",
            "text/plain": [
              "<Figure size 640x480 with 1 Axes>"
            ]
          },
          "metadata": {},
          "output_type": "display_data"
        }
      ],
      "source": [
        "# Explore data\n",
        "## YOUR CODE HERE ##\n",
        "show5(trainloader)"
      ]
    },
    {
      "cell_type": "markdown",
      "metadata": {
        "id": "7rOXun4lF8mx"
      },
      "source": [
        "## Build your Neural Network\n",
        "Using the layers in `torch.nn` (which has been imported as `nn`) and the `torch.nn.functional` module (imported as `F`), construct a neural network based on the parameters of the dataset.\n",
        "Use any architecture you like.\n",
        "\n",
        "*Note*: If you did not flatten your tensors in your transforms or as part of your preprocessing and you are using only `Linear` layers, make sure to use the `Flatten` layer in your network!"
      ]
    },
    {
      "cell_type": "code",
      "execution_count": 5,
      "metadata": {
        "colab": {
          "base_uri": "https://localhost:8080/"
        },
        "id": "zM9W4jeGF8mx",
        "outputId": "f75d157f-958b-4a33-e71e-c6814be9f812"
      },
      "outputs": [
        {
          "data": {
            "text/plain": [
              "Network(\n",
              "  (fc1): Linear(in_features=784, out_features=256, bias=True)\n",
              "  (fc2): Linear(in_features=256, out_features=128, bias=True)\n",
              "  (fc3): Linear(in_features=128, out_features=64, bias=True)\n",
              "  (fc4): Linear(in_features=64, out_features=10, bias=True)\n",
              "  (flatten): Flatten(start_dim=1, end_dim=-1)\n",
              ")"
            ]
          },
          "execution_count": 5,
          "metadata": {},
          "output_type": "execute_result"
        }
      ],
      "source": [
        "# # YOUR CODE HERE ## \n",
        "device = torch.device('cuda' if torch.cuda.is_available() else 'cpu')\n",
        "class Network(nn.Module):\n",
        "  def __init__(self):\n",
        "    super().__init__()\n",
        "    self.fc1 = nn.Linear(28 * 28, 256)\n",
        "    self.fc2 = nn.Linear(256, 128)\n",
        "    self.fc3 = nn.Linear(128, 64)\n",
        "    self.fc4 = nn.Linear(64, 10)\n",
        "    self.flatten = nn.Flatten()\n",
        "\n",
        "  def forward(self, x):\n",
        "\n",
        "    x = torch.flatten(x, 1)\n",
        "    x = F.relu(self.fc1(x))\n",
        "    x = F.relu(self.fc2(x))\n",
        "    x = F.relu(self.fc3(x))\n",
        "    x = F.softmax(self.fc4(x), dim=1)\n",
        "\n",
        "    return x\n",
        "\n",
        "net = Network()\n",
        "net.to(device)"
      ]
    },
    {
      "cell_type": "markdown",
      "metadata": {
        "id": "6U9PpmnqF8mx"
      },
      "source": [
        "Specify a loss function and an optimizer, and instantiate the model.\n",
        "\n",
        "If you use a less common loss function, please note why you chose that loss function in a comment."
      ]
    },
    {
      "cell_type": "code",
      "execution_count": 6,
      "metadata": {
        "id": "9poZGbDOF8mx"
      },
      "outputs": [],
      "source": [
        "## YOUR CODE HERE ##\n",
        "criterion = nn.CrossEntropyLoss()\n",
        "optimizer = optim.Adam(net.parameters(), lr = 0.001)"
      ]
    },
    {
      "cell_type": "markdown",
      "metadata": {
        "id": "ybsmwgaiF8mx"
      },
      "source": [
        "## Running your Neural Network\n",
        "Use whatever method you like to train your neural network, and ensure you record the average loss at each epoch.\n",
        "Don't forget to use `torch.device()` and the `.to()` method for both your model and your data if you are using GPU!\n",
        "\n",
        "If you want to print your loss **during** each epoch, you can use the `enumerate` function and print the loss after a set number of batches. 250 batches works well for most people!"
      ]
    },
    {
      "cell_type": "code",
      "execution_count": 7,
      "metadata": {
        "colab": {
          "base_uri": "https://localhost:8080/"
        },
        "id": "Gla99hyhF8mx",
        "outputId": "1bf27df6-fb36-4b61-8005-c2cd8020f90a"
      },
      "outputs": [
        {
          "name": "stdout",
          "output_type": "stream",
          "text": [
            "Epoch 1 training accuracy: 76.85% training loss: 1.69941\n",
            "Epoch 1 validation accuracy: 83.71% validation loss: 1.62415\n",
            "Epoch 2 training accuracy: 84.04% training loss: 1.62116\n",
            "Epoch 2 validation accuracy: 84.46% validation loss: 1.61753\n",
            "Epoch 3 training accuracy: 85.53% training loss: 1.60554\n",
            "Epoch 3 validation accuracy: 84.66% validation loss: 1.61409\n",
            "Epoch 4 training accuracy: 93.00% training loss: 1.53197\n",
            "Epoch 4 validation accuracy: 95.39% validation loss: 1.50734\n",
            "Epoch 5 training accuracy: 94.87% training loss: 1.51280\n",
            "Epoch 5 validation accuracy: 93.86% validation loss: 1.52249\n",
            "Epoch 6 training accuracy: 95.04% training loss: 1.51103\n",
            "Epoch 6 validation accuracy: 94.76% validation loss: 1.51295\n",
            "Epoch 7 training accuracy: 95.59% training loss: 1.50515\n",
            "Epoch 7 validation accuracy: 93.81% validation loss: 1.52277\n",
            "Epoch 8 training accuracy: 95.83% training loss: 1.50320\n",
            "Epoch 8 validation accuracy: 94.87% validation loss: 1.51201\n",
            "Epoch 9 training accuracy: 95.96% training loss: 1.50163\n",
            "Epoch 9 validation accuracy: 96.00% validation loss: 1.50167\n",
            "Epoch 10 training accuracy: 96.13% training loss: 1.49974\n",
            "Epoch 10 validation accuracy: 96.49% validation loss: 1.49619\n"
          ]
        }
      ],
      "source": [
        "## YOUR CODE HERE ##\n",
        "num_epochs = 10\n",
        "\n",
        "# Establish a list for our history\n",
        "train_loss_history = list()\n",
        "val_loss_history = list()\n",
        "\n",
        "for epoch in range(num_epochs):\n",
        "    net.train()\n",
        "    train_loss = 0.0\n",
        "    train_correct = 0\n",
        "    for i, data in enumerate(trainloader):\n",
        "        # data is a list of [inputs, labels]\n",
        "        inputs, labels = data\n",
        "\n",
        "        # Pass to GPU if available.\n",
        "        inputs, labels = inputs.to(device), labels.to(device)\n",
        "\n",
        "        optimizer.zero_grad()\n",
        "\n",
        "        outputs = net(inputs)\n",
        "        loss = criterion(outputs, labels)\n",
        "        loss.backward()\n",
        "        optimizer.step()\n",
        "\n",
        "        _, preds = torch.max(outputs.data, 1)\n",
        "        train_correct += (preds == labels).float().mean().item()\n",
        "        train_loss += loss.item()\n",
        "    print(f'Epoch {epoch + 1} training accuracy: {(train_correct/len(trainloader) * 100):.2f}% training loss: {train_loss/len(trainloader):.5f}')\n",
        "    train_loss_history.append(train_loss/len(trainloader))\n",
        "\n",
        "\n",
        "    val_loss = 0.0\n",
        "    val_correct = 0\n",
        "    net.eval()\n",
        "    for inputs, labels in testloader:\n",
        "        inputs, labels = inputs.to(device), labels.to(device)\n",
        "\n",
        "        outputs = net(inputs)\n",
        "        loss = criterion(outputs, labels)\n",
        "\n",
        "        _, preds = torch.max(outputs.data, 1)\n",
        "        val_correct += (preds == labels).float().mean().item()\n",
        "        val_loss += loss.item()\n",
        "    print(f'Epoch {epoch + 1} validation accuracy: {(val_correct/len(testloader)) * 100:.2f}% validation loss: {val_loss/len(testloader):.5f}')\n",
        "    val_loss_history.append(val_loss/len(testloader))"
      ]
    },
    {
      "cell_type": "markdown",
      "metadata": {
        "id": "0QGNiDwbF8my"
      },
      "source": [
        "Plot the training loss (and validation loss/accuracy, if recorded)."
      ]
    },
    {
      "cell_type": "code",
      "execution_count": 8,
      "metadata": {
        "colab": {
          "base_uri": "https://localhost:8080/",
          "height": 430
        },
        "id": "JUxc8iyNF8my",
        "outputId": "7f023be3-9b2c-4e3c-82ac-e223bd0d8f90"
      },
      "outputs": [
        {
          "data": {
            "image/png": "[encoded data removed]",
            "text/plain": [
              "<Figure size 640x480 with 1 Axes>"
            ]
          },
          "metadata": {},
          "output_type": "display_data"
        }
      ],
      "source": [
        "## YOUR CODE HERE ##\n",
        "# Plot the training and validation loss history\n",
        "plt.plot(train_loss_history, label=\"Training Loss\")\n",
        "plt.plot(val_loss_history, label=\"Validation Loss\")\n",
        "plt.legend()\n",
        "plt.show()"
      ]
    },
    {
      "cell_type": "markdown",
      "metadata": {
        "id": "N6zFom_nF8my"
      },
      "source": [
        "## Testing your model\n",
        "Using the previously created `DataLoader` for the test set, compute the percentage of correct predictions using the highest probability prediction.\n",
        "\n",
        "If your accuracy is over 90%, great work, but see if you can push a bit further!\n",
        "If your accuracy is under 90%, you'll need to make improvements.\n",
        "Go back and check your model architecture, loss function, and optimizer to make sure they're appropriate for an image classification task."
      ]
    },
    {
      "cell_type": "code",
      "execution_count": 9,
      "metadata": {
        "colab": {
          "base_uri": "https://localhost:8080/"
        },
        "id": "kdpY6NUMF8my",
        "outputId": "2b7b3f1b-015f-4ed4-c7cd-3976ea46d014"
      },
      "outputs": [
        {
          "name": "stdout",
          "output_type": "stream",
          "text": [
            " validation accuracy: 0.63% validation loss: 0.00940\n",
            " validation accuracy: 1.25% validation loss: 0.01884\n",
            " validation accuracy: 1.86% validation loss: 0.02839\n",
            " validation accuracy: 2.48% validation loss: 0.03789\n",
            " validation accuracy: 3.10% validation loss: 0.04737\n",
            " validation accuracy: 3.66% validation loss: 0.05734\n",
            " validation accuracy: 4.28% validation loss: 0.06685\n",
            " validation accuracy: 4.87% validation loss: 0.07664\n",
            " validation accuracy: 5.50% validation loss: 0.08597\n",
            " validation accuracy: 6.11% validation loss: 0.09553\n",
            " validation accuracy: 6.71% validation loss: 0.10522\n",
            " validation accuracy: 7.32% validation loss: 0.11475\n",
            " validation accuracy: 7.96% validation loss: 0.12408\n",
            " validation accuracy: 8.58% validation loss: 0.13359\n",
            " validation accuracy: 9.17% validation loss: 0.14341\n",
            " validation accuracy: 9.78% validation loss: 0.15291\n",
            " validation accuracy: 10.40% validation loss: 0.16238\n",
            " validation accuracy: 11.02% validation loss: 0.17189\n",
            " validation accuracy: 11.60% validation loss: 0.18162\n",
            " validation accuracy: 12.17% validation loss: 0.19169\n",
            " validation accuracy: 12.77% validation loss: 0.20143\n",
            " validation accuracy: 13.38% validation loss: 0.21100\n",
            " validation accuracy: 14.00% validation loss: 0.22046\n",
            " validation accuracy: 14.59% validation loss: 0.23024\n",
            " validation accuracy: 15.18% validation loss: 0.24001\n",
            " validation accuracy: 15.80% validation loss: 0.24944\n",
            " validation accuracy: 16.38% validation loss: 0.25936\n",
            " validation accuracy: 16.99% validation loss: 0.26895\n",
            " validation accuracy: 17.62% validation loss: 0.27839\n",
            " validation accuracy: 18.22% validation loss: 0.28802\n",
            " validation accuracy: 18.82% validation loss: 0.29770\n",
            " validation accuracy: 19.41% validation loss: 0.30755\n",
            " validation accuracy: 19.99% validation loss: 0.31736\n",
            " validation accuracy: 20.59% validation loss: 0.32705\n",
            " validation accuracy: 21.20% validation loss: 0.33665\n",
            " validation accuracy: 21.80% validation loss: 0.34636\n",
            " validation accuracy: 22.42% validation loss: 0.35571\n",
            " validation accuracy: 22.98% validation loss: 0.36577\n",
            " validation accuracy: 23.59% validation loss: 0.37537\n",
            " validation accuracy: 24.18% validation loss: 0.38507\n",
            " validation accuracy: 24.77% validation loss: 0.39477\n",
            " validation accuracy: 25.39% validation loss: 0.40428\n",
            " validation accuracy: 26.00% validation loss: 0.41382\n",
            " validation accuracy: 26.61% validation loss: 0.42334\n",
            " validation accuracy: 27.23% validation loss: 0.43287\n",
            " validation accuracy: 27.83% validation loss: 0.44257\n",
            " validation accuracy: 28.45% validation loss: 0.45198\n",
            " validation accuracy: 29.06% validation loss: 0.46162\n",
            " validation accuracy: 29.67% validation loss: 0.47122\n",
            " validation accuracy: 30.29% validation loss: 0.48061\n",
            " validation accuracy: 30.90% validation loss: 0.49020\n",
            " validation accuracy: 31.54% validation loss: 0.49952\n",
            " validation accuracy: 32.14% validation loss: 0.50918\n",
            " validation accuracy: 32.76% validation loss: 0.51858\n",
            " validation accuracy: 33.39% validation loss: 0.52803\n",
            " validation accuracy: 34.01% validation loss: 0.53758\n",
            " validation accuracy: 34.62% validation loss: 0.54709\n",
            " validation accuracy: 35.24% validation loss: 0.55663\n",
            " validation accuracy: 35.82% validation loss: 0.56652\n",
            " validation accuracy: 36.39% validation loss: 0.57649\n",
            " validation accuracy: 36.96% validation loss: 0.58638\n",
            " validation accuracy: 37.55% validation loss: 0.59619\n",
            " validation accuracy: 38.15% validation loss: 0.60590\n",
            " validation accuracy: 38.74% validation loss: 0.61561\n",
            " validation accuracy: 39.34% validation loss: 0.62531\n",
            " validation accuracy: 39.95% validation loss: 0.63492\n",
            " validation accuracy: 40.56% validation loss: 0.64453\n",
            " validation accuracy: 41.15% validation loss: 0.65424\n",
            " validation accuracy: 41.78% validation loss: 0.66368\n",
            " validation accuracy: 42.38% validation loss: 0.67331\n",
            " validation accuracy: 42.97% validation loss: 0.68302\n",
            " validation accuracy: 43.58% validation loss: 0.69257\n",
            " validation accuracy: 44.21% validation loss: 0.70202\n",
            " validation accuracy: 44.83% validation loss: 0.71150\n",
            " validation accuracy: 45.46% validation loss: 0.72098\n",
            " validation accuracy: 46.07% validation loss: 0.73060\n",
            " validation accuracy: 46.68% validation loss: 0.74020\n",
            " validation accuracy: 47.25% validation loss: 0.75001\n",
            " validation accuracy: 47.89% validation loss: 0.75934\n",
            " validation accuracy: 48.52% validation loss: 0.76874\n",
            " validation accuracy: 49.14% validation loss: 0.77815\n",
            " validation accuracy: 49.78% validation loss: 0.78746\n",
            " validation accuracy: 50.42% validation loss: 0.79676\n",
            " validation accuracy: 51.05% validation loss: 0.80608\n",
            " validation accuracy: 51.68% validation loss: 0.81548\n",
            " validation accuracy: 52.31% validation loss: 0.82489\n",
            " validation accuracy: 52.94% validation loss: 0.83429\n",
            " validation accuracy: 53.54% validation loss: 0.84390\n",
            " validation accuracy: 54.16% validation loss: 0.85340\n",
            " validation accuracy: 54.79% validation loss: 0.86282\n",
            " validation accuracy: 55.42% validation loss: 0.87212\n",
            " validation accuracy: 56.02% validation loss: 0.88174\n",
            " validation accuracy: 56.63% validation loss: 0.89139\n",
            " validation accuracy: 57.23% validation loss: 0.90108\n",
            " validation accuracy: 57.82% validation loss: 0.91083\n",
            " validation accuracy: 58.44% validation loss: 0.92034\n",
            " validation accuracy: 59.04% validation loss: 0.93008\n",
            " validation accuracy: 59.67% validation loss: 0.93938\n",
            " validation accuracy: 60.31% validation loss: 0.94870\n",
            " validation accuracy: 60.93% validation loss: 0.95821\n",
            " validation accuracy: 61.56% validation loss: 0.96753\n",
            " validation accuracy: 62.19% validation loss: 0.97694\n",
            " validation accuracy: 62.80% validation loss: 0.98655\n",
            " validation accuracy: 63.38% validation loss: 0.99637\n",
            " validation accuracy: 64.01% validation loss: 1.00567\n",
            " validation accuracy: 64.64% validation loss: 1.01508\n",
            " validation accuracy: 65.27% validation loss: 1.02452\n",
            " validation accuracy: 65.90% validation loss: 1.03383\n",
            " validation accuracy: 66.54% validation loss: 1.04315\n",
            " validation accuracy: 67.18% validation loss: 1.05246\n",
            " validation accuracy: 67.81% validation loss: 1.06176\n",
            " validation accuracy: 68.45% validation loss: 1.07107\n",
            " validation accuracy: 69.08% validation loss: 1.08047\n",
            " validation accuracy: 69.70% validation loss: 1.08998\n",
            " validation accuracy: 70.33% validation loss: 1.09929\n",
            " validation accuracy: 70.97% validation loss: 1.10859\n",
            " validation accuracy: 71.59% validation loss: 1.11811\n",
            " validation accuracy: 72.20% validation loss: 1.12761\n",
            " validation accuracy: 72.84% validation loss: 1.13692\n",
            " validation accuracy: 73.47% validation loss: 1.14632\n",
            " validation accuracy: 74.09% validation loss: 1.15573\n",
            " validation accuracy: 74.73% validation loss: 1.16504\n",
            " validation accuracy: 75.36% validation loss: 1.17444\n",
            " validation accuracy: 75.99% validation loss: 1.18384\n",
            " validation accuracy: 76.61% validation loss: 1.19325\n",
            " validation accuracy: 77.23% validation loss: 1.20276\n",
            " validation accuracy: 77.86% validation loss: 1.21218\n",
            " validation accuracy: 78.49% validation loss: 1.22149\n",
            " validation accuracy: 79.11% validation loss: 1.23099\n",
            " validation accuracy: 79.75% validation loss: 1.24031\n",
            " validation accuracy: 80.37% validation loss: 1.24971\n",
            " validation accuracy: 81.00% validation loss: 1.25912\n",
            " validation accuracy: 81.63% validation loss: 1.26853\n",
            " validation accuracy: 82.24% validation loss: 1.27810\n",
            " validation accuracy: 82.85% validation loss: 1.28759\n",
            " validation accuracy: 83.49% validation loss: 1.29690\n",
            " validation accuracy: 84.13% validation loss: 1.30620\n",
            " validation accuracy: 84.76% validation loss: 1.31551\n",
            " validation accuracy: 85.39% validation loss: 1.32492\n",
            " validation accuracy: 86.03% validation loss: 1.33422\n",
            " validation accuracy: 86.63% validation loss: 1.34384\n",
            " validation accuracy: 87.26% validation loss: 1.35325\n",
            " validation accuracy: 87.90% validation loss: 1.36256\n",
            " validation accuracy: 88.54% validation loss: 1.37187\n",
            " validation accuracy: 89.17% validation loss: 1.38117\n",
            " validation accuracy: 89.80% validation loss: 1.39061\n",
            " validation accuracy: 90.43% validation loss: 1.39998\n",
            " validation accuracy: 91.06% validation loss: 1.40929\n",
            " validation accuracy: 91.69% validation loss: 1.41877\n",
            " validation accuracy: 92.31% validation loss: 1.42827\n",
            " validation accuracy: 92.92% validation loss: 1.43779\n",
            " validation accuracy: 93.49% validation loss: 1.44779\n",
            " validation accuracy: 94.04% validation loss: 1.45801\n",
            " validation accuracy: 94.65% validation loss: 1.46761\n",
            " validation accuracy: 95.25% validation loss: 1.47718\n",
            " validation accuracy: 95.85% validation loss: 1.48689\n",
            " validation accuracy: 96.49% validation loss: 1.49619\n"
          ]
        }
      ],
      "source": [
        "## YOUR CODE HERE ##\n",
        "val_loss = 0.0\n",
        "val_correct = 0\n",
        "net.eval()\n",
        "for inputs, labels in testloader:\n",
        "  inputs, labels = inputs.to(device), labels.to(device)\n",
        "\n",
        "  outputs = net(inputs)\n",
        "  loss = criterion(outputs, labels)\n",
        "\n",
        "  _, preds = torch.max(outputs.data, 1)\n",
        "  val_correct += (preds == labels).float().mean().item()\n",
        "  val_loss += loss.item()\n",
        "  print(f' validation accuracy: {(val_correct/len(testloader)) * 100:.2f}% validation loss: {val_loss/len(testloader):.5f}')"
      ]
    },
    {
      "cell_type": "markdown",
      "metadata": {
        "id": "PSD-QZ_xF8my"
      },
      "source": [
        "## Improving your model\n",
        "\n",
        "Once your model is done training, try tweaking your hyperparameters and training again below to improve your accuracy on the test set!"
      ]
    },
    {
      "cell_type": "code",
      "execution_count": 10,
      "metadata": {
        "colab": {
          "base_uri": "https://localhost:8080/"
        },
        "id": "v6lY8kYXF8my",
        "outputId": "d61d4612-6923-46f3-8be1-1b8a06934fe4"
      },
      "outputs": [
        {
          "name": "stdout",
          "output_type": "stream",
          "text": [
            "Epoch 1 training accuracy: 97.34% training loss: 1.48785\n",
            "Epoch 1 validation accuracy: 97.03% validation loss: 1.49100\n",
            "Epoch 2 training accuracy: 97.69% training loss: 1.48459\n",
            "Epoch 2 validation accuracy: 97.14% validation loss: 1.49037\n",
            "Epoch 3 training accuracy: 97.77% training loss: 1.48358\n",
            "Epoch 3 validation accuracy: 97.10% validation loss: 1.49025\n",
            "Epoch 4 training accuracy: 97.89% training loss: 1.48245\n",
            "Epoch 4 validation accuracy: 97.25% validation loss: 1.48863\n",
            "Epoch 5 training accuracy: 97.96% training loss: 1.48170\n",
            "Epoch 5 validation accuracy: 97.28% validation loss: 1.48827\n",
            "Epoch 6 training accuracy: 97.99% training loss: 1.48127\n",
            "Epoch 6 validation accuracy: 97.39% validation loss: 1.48736\n",
            "Epoch 7 training accuracy: 98.11% training loss: 1.48041\n",
            "Epoch 7 validation accuracy: 97.36% validation loss: 1.48776\n",
            "Epoch 8 training accuracy: 98.20% training loss: 1.47954\n",
            "Epoch 8 validation accuracy: 97.34% validation loss: 1.48773\n",
            "Epoch 9 training accuracy: 98.17% training loss: 1.47968\n",
            "Epoch 9 validation accuracy: 97.31% validation loss: 1.48809\n",
            "Epoch 10 training accuracy: 98.23% training loss: 1.47899\n",
            "Epoch 10 validation accuracy: 97.42% validation loss: 1.48693\n",
            "Epoch 11 training accuracy: 98.28% training loss: 1.47861\n",
            "Epoch 11 validation accuracy: 97.48% validation loss: 1.48627\n",
            "Epoch 12 training accuracy: 98.32% training loss: 1.47811\n",
            "Epoch 12 validation accuracy: 97.45% validation loss: 1.48657\n",
            "--------------------------------------------------------------------------\n",
            "For Testing\n",
            " validation accuracy: 0.63% validation loss: 0.00940\n",
            " validation accuracy: 1.26% validation loss: 0.01871\n",
            " validation accuracy: 1.88% validation loss: 0.02821\n",
            " validation accuracy: 2.51% validation loss: 0.03762\n",
            " validation accuracy: 3.13% validation loss: 0.04702\n",
            " validation accuracy: 3.73% validation loss: 0.05671\n",
            " validation accuracy: 4.36% validation loss: 0.06612\n",
            " validation accuracy: 4.98% validation loss: 0.07561\n",
            " validation accuracy: 5.61% validation loss: 0.08492\n",
            " validation accuracy: 6.23% validation loss: 0.09440\n",
            " validation accuracy: 6.84% validation loss: 0.10400\n",
            " validation accuracy: 7.44% validation loss: 0.11361\n",
            " validation accuracy: 8.06% validation loss: 0.12310\n",
            " validation accuracy: 8.69% validation loss: 0.13255\n",
            " validation accuracy: 9.30% validation loss: 0.14213\n",
            " validation accuracy: 9.91% validation loss: 0.15164\n",
            " validation accuracy: 10.54% validation loss: 0.16107\n",
            " validation accuracy: 11.16% validation loss: 0.17056\n",
            " validation accuracy: 11.76% validation loss: 0.18016\n",
            " validation accuracy: 12.36% validation loss: 0.18988\n",
            " validation accuracy: 12.97% validation loss: 0.19945\n",
            " validation accuracy: 13.58% validation loss: 0.20897\n",
            " validation accuracy: 14.20% validation loss: 0.21845\n",
            " validation accuracy: 14.80% validation loss: 0.22816\n",
            " validation accuracy: 15.41% validation loss: 0.23771\n",
            " validation accuracy: 16.02% validation loss: 0.24721\n",
            " validation accuracy: 16.62% validation loss: 0.25692\n",
            " validation accuracy: 17.23% validation loss: 0.26651\n",
            " validation accuracy: 17.86% validation loss: 0.27584\n",
            " validation accuracy: 18.47% validation loss: 0.28544\n",
            " validation accuracy: 19.08% validation loss: 0.29505\n",
            " validation accuracy: 19.69% validation loss: 0.30465\n",
            " validation accuracy: 20.29% validation loss: 0.31428\n",
            " validation accuracy: 20.90% validation loss: 0.32383\n",
            " validation accuracy: 21.51% validation loss: 0.33340\n",
            " validation accuracy: 22.12% validation loss: 0.34292\n",
            " validation accuracy: 22.75% validation loss: 0.35234\n",
            " validation accuracy: 23.34% validation loss: 0.36209\n",
            " validation accuracy: 23.95% validation loss: 0.37170\n",
            " validation accuracy: 24.56% validation loss: 0.38121\n",
            " validation accuracy: 25.19% validation loss: 0.39062\n",
            " validation accuracy: 25.81% validation loss: 0.40013\n",
            " validation accuracy: 26.43% validation loss: 0.40955\n",
            " validation accuracy: 27.05% validation loss: 0.41905\n",
            " validation accuracy: 27.68% validation loss: 0.42850\n",
            " validation accuracy: 28.27% validation loss: 0.43818\n",
            " validation accuracy: 28.88% validation loss: 0.44776\n",
            " validation accuracy: 29.50% validation loss: 0.45724\n",
            " validation accuracy: 30.12% validation loss: 0.46674\n",
            " validation accuracy: 30.75% validation loss: 0.47605\n",
            " validation accuracy: 31.38% validation loss: 0.48546\n",
            " validation accuracy: 32.02% validation loss: 0.49476\n",
            " validation accuracy: 32.64% validation loss: 0.50417\n",
            " validation accuracy: 33.28% validation loss: 0.51348\n",
            " validation accuracy: 33.90% validation loss: 0.52299\n",
            " validation accuracy: 34.51% validation loss: 0.53249\n",
            " validation accuracy: 35.12% validation loss: 0.54209\n",
            " validation accuracy: 35.73% validation loss: 0.55168\n",
            " validation accuracy: 36.33% validation loss: 0.56137\n",
            " validation accuracy: 36.91% validation loss: 0.57115\n",
            " validation accuracy: 37.52% validation loss: 0.58081\n",
            " validation accuracy: 38.11% validation loss: 0.59060\n",
            " validation accuracy: 38.72% validation loss: 0.60016\n",
            " validation accuracy: 39.32% validation loss: 0.60987\n",
            " validation accuracy: 39.96% validation loss: 0.61921\n",
            " validation accuracy: 40.58% validation loss: 0.62871\n",
            " validation accuracy: 41.18% validation loss: 0.63832\n",
            " validation accuracy: 41.77% validation loss: 0.64811\n",
            " validation accuracy: 42.39% validation loss: 0.65761\n",
            " validation accuracy: 42.99% validation loss: 0.66723\n",
            " validation accuracy: 43.61% validation loss: 0.67674\n",
            " validation accuracy: 44.24% validation loss: 0.68615\n",
            " validation accuracy: 44.85% validation loss: 0.69566\n",
            " validation accuracy: 45.46% validation loss: 0.70526\n",
            " validation accuracy: 46.10% validation loss: 0.71457\n",
            " validation accuracy: 46.71% validation loss: 0.72417\n",
            " validation accuracy: 47.31% validation loss: 0.73381\n",
            " validation accuracy: 47.92% validation loss: 0.74342\n",
            " validation accuracy: 48.56% validation loss: 0.75272\n",
            " validation accuracy: 49.19% validation loss: 0.76204\n",
            " validation accuracy: 49.82% validation loss: 0.77144\n",
            " validation accuracy: 50.46% validation loss: 0.78075\n",
            " validation accuracy: 51.09% validation loss: 0.79005\n",
            " validation accuracy: 51.72% validation loss: 0.79946\n",
            " validation accuracy: 52.36% validation loss: 0.80877\n",
            " validation accuracy: 52.99% validation loss: 0.81817\n",
            " validation accuracy: 53.62% validation loss: 0.82752\n",
            " validation accuracy: 54.24% validation loss: 0.83702\n",
            " validation accuracy: 54.86% validation loss: 0.84654\n",
            " validation accuracy: 55.47% validation loss: 0.85603\n",
            " validation accuracy: 56.11% validation loss: 0.86534\n",
            " validation accuracy: 56.74% validation loss: 0.87475\n",
            " validation accuracy: 57.34% validation loss: 0.88435\n",
            " validation accuracy: 57.95% validation loss: 0.89396\n",
            " validation accuracy: 58.56% validation loss: 0.90352\n",
            " validation accuracy: 59.19% validation loss: 0.91294\n",
            " validation accuracy: 59.79% validation loss: 0.92254\n",
            " validation accuracy: 60.43% validation loss: 0.93185\n",
            " validation accuracy: 61.07% validation loss: 0.94115\n",
            " validation accuracy: 61.69% validation loss: 0.95060\n",
            " validation accuracy: 62.33% validation loss: 0.95991\n",
            " validation accuracy: 62.96% validation loss: 0.96932\n",
            " validation accuracy: 63.56% validation loss: 0.97891\n",
            " validation accuracy: 64.16% validation loss: 0.98866\n",
            " validation accuracy: 64.80% validation loss: 0.99797\n",
            " validation accuracy: 65.43% validation loss: 1.00737\n",
            " validation accuracy: 66.05% validation loss: 1.01676\n",
            " validation accuracy: 66.69% validation loss: 1.02607\n",
            " validation accuracy: 67.33% validation loss: 1.03538\n",
            " validation accuracy: 67.96% validation loss: 1.04468\n",
            " validation accuracy: 68.60% validation loss: 1.05399\n",
            " validation accuracy: 69.24% validation loss: 1.06330\n",
            " validation accuracy: 69.86% validation loss: 1.07270\n",
            " validation accuracy: 70.49% validation loss: 1.08210\n",
            " validation accuracy: 71.13% validation loss: 1.09141\n",
            " validation accuracy: 71.76% validation loss: 1.10081\n",
            " validation accuracy: 72.38% validation loss: 1.11023\n",
            " validation accuracy: 73.02% validation loss: 1.11953\n",
            " validation accuracy: 73.66% validation loss: 1.12884\n",
            " validation accuracy: 74.29% validation loss: 1.13815\n",
            " validation accuracy: 74.93% validation loss: 1.14745\n",
            " validation accuracy: 75.57% validation loss: 1.15676\n",
            " validation accuracy: 76.19% validation loss: 1.16612\n",
            " validation accuracy: 76.81% validation loss: 1.17562\n",
            " validation accuracy: 77.43% validation loss: 1.18512\n",
            " validation accuracy: 78.05% validation loss: 1.19462\n",
            " validation accuracy: 78.67% validation loss: 1.20403\n",
            " validation accuracy: 79.31% validation loss: 1.21333\n",
            " validation accuracy: 79.94% validation loss: 1.22274\n",
            " validation accuracy: 80.56% validation loss: 1.23210\n",
            " validation accuracy: 81.19% validation loss: 1.24155\n",
            " validation accuracy: 81.81% validation loss: 1.25103\n",
            " validation accuracy: 82.44% validation loss: 1.26034\n",
            " validation accuracy: 83.06% validation loss: 1.26987\n",
            " validation accuracy: 83.69% validation loss: 1.27927\n",
            " validation accuracy: 84.33% validation loss: 1.28858\n",
            " validation accuracy: 84.96% validation loss: 1.29788\n",
            " validation accuracy: 85.60% validation loss: 1.30719\n",
            " validation accuracy: 86.24% validation loss: 1.31650\n",
            " validation accuracy: 86.87% validation loss: 1.32580\n",
            " validation accuracy: 87.49% validation loss: 1.33531\n",
            " validation accuracy: 88.12% validation loss: 1.34472\n",
            " validation accuracy: 88.75% validation loss: 1.35402\n",
            " validation accuracy: 89.39% validation loss: 1.36333\n",
            " validation accuracy: 90.03% validation loss: 1.37264\n",
            " validation accuracy: 90.65% validation loss: 1.38199\n",
            " validation accuracy: 91.29% validation loss: 1.39130\n",
            " validation accuracy: 91.93% validation loss: 1.40060\n",
            " validation accuracy: 92.56% validation loss: 1.40999\n",
            " validation accuracy: 93.18% validation loss: 1.41940\n",
            " validation accuracy: 93.80% validation loss: 1.42890\n",
            " validation accuracy: 94.39% validation loss: 1.43871\n",
            " validation accuracy: 94.96% validation loss: 1.44870\n",
            " validation accuracy: 95.58% validation loss: 1.45821\n",
            " validation accuracy: 96.20% validation loss: 1.46772\n",
            " validation accuracy: 96.82% validation loss: 1.47727\n",
            " validation accuracy: 97.45% validation loss: 1.48657\n"
          ]
        }
      ],
      "source": [
        "## YOUR CODE HERE ##\n",
        "net2 = Network()\n",
        "net2.to(device)\n",
        "criterion2 = nn.CrossEntropyLoss()\n",
        "optimizer2 = optim.SGD(net.parameters(), momentum=0.9, lr = 0.01)\n",
        "\n",
        "num_epochs = 12\n",
        "\n",
        "# Establish a list for our history\n",
        "train_loss_history = list()\n",
        "val_loss_history = list()\n",
        "\n",
        "for epoch in range(num_epochs):\n",
        "    net2.train()\n",
        "    train_loss = 0.0\n",
        "    train_correct = 0\n",
        "    for i, data in enumerate(trainloader):\n",
        "        # data is a list of [inputs, labels]\n",
        "        inputs, labels = data\n",
        "\n",
        "        # Pass to GPU if available.\n",
        "        inputs, labels = inputs.to(device), labels.to(device)\n",
        "\n",
        "        optimizer.zero_grad()\n",
        "\n",
        "        outputs = net(inputs)\n",
        "        loss = criterion2(outputs, labels)\n",
        "        loss.backward()\n",
        "        optimizer2.step()\n",
        "\n",
        "        _, preds = torch.max(outputs.data, 1)\n",
        "        train_correct += (preds == labels).float().mean().item()\n",
        "        train_loss += loss.item()\n",
        "    print(f'Epoch {epoch + 1} training accuracy: {(train_correct/len(trainloader) * 100):.2f}% training loss: {train_loss/len(trainloader):.5f}')\n",
        "    train_loss_history.append(train_loss/len(trainloader))\n",
        "\n",
        "\n",
        "    val_loss = 0.0\n",
        "    val_correct = 0\n",
        "    net.eval()\n",
        "    for inputs, labels in testloader:\n",
        "        inputs, labels = inputs.to(device), labels.to(device)\n",
        "\n",
        "        outputs = net(inputs)\n",
        "        loss = criterion(outputs, labels)\n",
        "\n",
        "        _, preds = torch.max(outputs.data, 1)\n",
        "        val_correct += (preds == labels).float().mean().item()\n",
        "        val_loss += loss.item()\n",
        "    print(f'Epoch {epoch + 1} validation accuracy: {(val_correct/len(testloader) * 100):.2f}% validation loss: {val_loss/len(testloader):.5f}')\n",
        "    val_loss_history.append(val_loss/len(testloader))\n",
        "\n",
        "print(\"--------------------------------------------------------------------------\")\n",
        "print(\"For Testing\")\n",
        "\n",
        "val_loss = 0.0\n",
        "val_correct = 0\n",
        "net.eval()\n",
        "for inputs, labels in testloader:\n",
        "  inputs, labels = inputs.to(device), labels.to(device)\n",
        "\n",
        "  outputs = net(inputs)\n",
        "  loss = criterion(outputs, labels)\n",
        "\n",
        "  _, preds = torch.max(outputs.data, 1)\n",
        "  val_correct += (preds == labels).float().mean().item()\n",
        "  val_loss += loss.item()\n",
        "\n",
        "  print(f' validation accuracy: {(val_correct/len(testloader) * 100):.2f}% validation loss: {val_loss/len(testloader):.5f}')"
      ]
    },
    {
      "cell_type": "markdown",
      "metadata": {
        "id": "zoqKMqd2F8my"
      },
      "source": [
        "## Saving your model\n",
        "Using `torch.save`, save your model for future loading."
      ]
    },
    {
      "cell_type": "code",
      "execution_count": 11,
      "metadata": {
        "id": "XikUbzdiF8my"
      },
      "outputs": [],
      "source": [
        "## YOUR CODE HERE ##\n",
        "torch.save(net.state_dict(), 'checkpoint.pth')"
      ]
    }
  ],
  "metadata": {
    "accelerator": "GPU",
    "colab": {
      "gpuType": "T4",
      "provenance": []
    },
    "kernelspec": {
      "display_name": "Python 3",
      "name": "python3"
    },
    "language_info": {
      "codemirror_mode": {
        "name": "ipython",
        "version": 3
      },
      "file_extension": ".py",
      "mimetype": "text/x-python",
      "name": "python",
      "nbconvert_exporter": "python",
      "pygments_lexer": "ipython3",
      "version": "3.7.6"
    }
  },
  "nbformat": 4,
  "nbformat_minor": 0
}
